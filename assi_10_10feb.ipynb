{
 "cells": [
  {
   "cell_type": "code",
   "execution_count": null,
   "id": "d6a6eba5-1fbb-4f3b-bbc5-fd093fa5d1e8",
   "metadata": {},
   "outputs": [],
   "source": [
    "'''\n",
    "Q1. Which function is used to open a file? What are the different modes of opening a file? Explain each mode\n",
    "of file opening.\n",
    "'''\n",
    "fopen()  # function is used for open a file in the folder \n",
    "\n",
    "with open(filename , mode)   :          # is also used fir the open file with mode \n",
    "    \n",
    "# file opening modes \n",
    "r - open a file in read mode.\n",
    "w - opens or create a text file in write mode.\n",
    "a - opens a file in append mode.\n",
    "r+ - opens a file in both read and write mode.\n",
    "a+ - opens a file in both read and write mode.\n",
    "w+ - opens a file in both read and write mode."
   ]
  },
  {
   "cell_type": "code",
   "execution_count": null,
   "id": "34c89360-64a2-4ca1-89a2-de3044a10d95",
   "metadata": {},
   "outputs": [],
   "source": [
    "'''\n",
    "Q2. Why close() function is used? Why is it important to close a file?\n",
    "'''\n",
    "close() function is used for the close the open file \n",
    "if we do not close a file then it is chancess to currpt the data inside the file\n",
    "it flushes any unwritten information and eventually closes the file object.\n",
    "The close() function shall deallocate the file descriptor indicated by fildes\n"
   ]
  },
  {
   "cell_type": "code",
   "execution_count": 4,
   "id": "aa696741-77d9-42eb-8e65-26e72201145b",
   "metadata": {},
   "outputs": [
    {
     "name": "stdout",
     "output_type": "stream",
     "text": [
      "I want to become a data scientistI want to become a data scientistI want to become a data scientistI want to become a data scientist\n"
     ]
    }
   ],
   "source": [
    "'''\n",
    "Q3. Write a python program to create a text file. Write ‘I want to become a Data Scientist’ in that file. Then\n",
    "close the file. Open this file and read the content of the file.\n",
    "'''\n",
    "\n",
    "with open(\"text.txt\",'a') as f :\n",
    "    f.write(\"I want to become a data scientist\")\n",
    "    \n",
    "with open(\"text.txt\" , 'r')as f:\n",
    "    print(f.read())"
   ]
  },
  {
   "cell_type": "code",
   "execution_count": null,
   "id": "cdd2fe92-cd61-4563-a2da-baa76e9eaa5f",
   "metadata": {},
   "outputs": [],
   "source": [
    "'''\n",
    "Q4. Explain the following with python code: read(), readline() and readlines().\n",
    "'''\n",
    "read() : returns the specified number of bytes from the file. \n",
    "readline() : method will return a line from the file when called. \n",
    "readlines() : method will return all the lines in a file in the format of a list where each element is a line in the file"
   ]
  },
  {
   "cell_type": "code",
   "execution_count": 6,
   "id": "42f7afa9-4bf9-4706-849e-ea368d2614e7",
   "metadata": {},
   "outputs": [
    {
     "name": "stdout",
     "output_type": "stream",
     "text": [
      "I want to become a data scientistI want to become a data scientistI want to become a data scientistI want to become a data scientist\n",
      "['I want to become a data scientistI want to become a data scientistI want to become a data scientistI want to become a data scientist']\n",
      "I want to become a data scientistI want to become a data scientistI want to become a data scientistI want to become a data scientist\n"
     ]
    }
   ],
   "source": [
    "# example of read()\n",
    "with open(\"text.txt\" , 'r')as f:\n",
    "    print(f.read())\n",
    "    \n",
    "# example of readline()\n",
    "with open(\"text.txt\" , 'r')as f:\n",
    "    print(f.readlines())\n",
    "\n",
    "    # example of raadline\n",
    "with open(\"text.txt\" , 'r')as f:\n",
    "    print(f.readline())"
   ]
  },
  {
   "cell_type": "code",
   "execution_count": null,
   "id": "404d266f-dc68-4c5c-a392-0e1c34912c35",
   "metadata": {},
   "outputs": [],
   "source": [
    "'''\n",
    "Q5. Explain why with statement is used with open(). What is the advantage of using with statement and\n",
    "open() together?\n",
    "'''\n",
    "'''\n",
    "When you call the open() function using the with statement, the file closes automatically after you've processed the file. \n",
    "The with statement is a replacement for commonly used try/finally error-handling statements.\n",
    "A common example of using the with statement is opening a file\n",
    "\n",
    "\n",
    "the with statement closes the file for you without you telling it to. '''\n"
   ]
  },
  {
   "cell_type": "code",
   "execution_count": null,
   "id": "f8d7df57-2095-4bdf-8885-4f781b88d5d5",
   "metadata": {},
   "outputs": [],
   "source": [
    "'''\n",
    "Q6. Explain the write() and writelines() functions. Give a suitable example.\n",
    "''''''\n",
    "write() : The write() function will write the content in the file without adding any extra characters.\n",
    "writeline(): the list of strings that is passed to the writelines() function is written into the opened file. \n",
    "             Similar to the write() function'''\n",
    "    \n",
    "    "
   ]
  },
  {
   "cell_type": "code",
   "execution_count": 8,
   "id": "4d1f3487-9977-42fb-bb1c-1c5eebc0bb00",
   "metadata": {},
   "outputs": [
    {
     "name": "stdin",
     "output_type": "stream",
     "text": [
      "Enter the name of the sturnde:  banti\n",
      "Enter the name of the sturnde:  pratik \n",
      "Enter the name of the sturnde:  pawar\n"
     ]
    },
    {
     "name": "stdout",
     "output_type": "stream",
     "text": [
      "Data is written into the file.\n"
     ]
    }
   ],
   "source": [
    "# usign write()\n",
    "file = open(\"banti.txt\", \"w\")\n",
    "  \n",
    "for i in range(3):\n",
    "   name = input(\"Enter the name of the sturnde: \")\n",
    "   file.write(name)\n",
    "   file.write(\"\\n\")\n",
    "     \n",
    "file.close()\n",
    "  \n",
    "print(\"Data is written into the file.\")"
   ]
  },
  {
   "cell_type": "code",
   "execution_count": 9,
   "id": "60d0a936-e3b9-498b-ba72-7c20e96546d7",
   "metadata": {},
   "outputs": [
    {
     "name": "stdin",
     "output_type": "stream",
     "text": [
      "Enter the name of the employee:  banti\n",
      "Enter the name of the employee:  pratik\n",
      "Enter the name of the employee:  vishal\n"
     ]
    },
    {
     "name": "stdout",
     "output_type": "stream",
     "text": [
      "Data is written into the file.\n"
     ]
    }
   ],
   "source": [
    "# using writelines()\n",
    "file1 = open(\"Employees.txt\", \"w\")\n",
    "lst = []\n",
    "for i in range(3):\n",
    "    name = input(\"Enter the name of the employee: \")\n",
    "    lst.append(name + '\\n')\n",
    "      \n",
    "file1.writelines(lst)\n",
    "file1.close()\n",
    "print(\"Data is written into the file.\") "
   ]
  },
  {
   "cell_type": "code",
   "execution_count": null,
   "id": "7d46daf4-b03b-47f6-a28d-aa58a0863e1b",
   "metadata": {},
   "outputs": [],
   "source": []
  }
 ],
 "metadata": {
  "kernelspec": {
   "display_name": "Python 3 (ipykernel)",
   "language": "python",
   "name": "python3"
  },
  "language_info": {
   "codemirror_mode": {
    "name": "ipython",
    "version": 3
   },
   "file_extension": ".py",
   "mimetype": "text/x-python",
   "name": "python",
   "nbconvert_exporter": "python",
   "pygments_lexer": "ipython3",
   "version": "3.10.8"
  }
 },
 "nbformat": 4,
 "nbformat_minor": 5
}
